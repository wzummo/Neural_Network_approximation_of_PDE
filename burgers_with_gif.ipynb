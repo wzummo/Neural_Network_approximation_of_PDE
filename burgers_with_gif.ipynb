{
  "nbformat": 4,
  "nbformat_minor": 0,
  "metadata": {
    "colab": {
      "name": "burgers_with_gif",
      "provenance": [],
      "mount_file_id": "1zc2s5RzJ6YQCTPt5ePcbjnRJsgRFuuDk",
      "authorship_tag": "ABX9TyMnEAk1eDswrEV7MczBPt76",
      "include_colab_link": true
    },
    "kernelspec": {
      "name": "python3",
      "display_name": "Python 3"
    },
    "language_info": {
      "name": "python"
    },
    "accelerator": "GPU",
    "gpuClass": "standard"
  },
  "cells": [
    {
      "cell_type": "markdown",
      "metadata": {
        "id": "view-in-github",
        "colab_type": "text"
      },
      "source": [
        "<a href=\"https://colab.research.google.com/github/wzummo/Neural_Network_approximation_of_PDE/blob/main/burgers_with_gif.ipynb\" target=\"_parent\"><img src=\"https://colab.research.google.com/assets/colab-badge.svg\" alt=\"Open In Colab\"/></a>"
      ]
    },
    {
      "cell_type": "markdown",
      "source": [
        "# Burgers Equation example"
      ],
      "metadata": {
        "id": "916VqGw8vWlM"
      }
    },
    {
      "cell_type": "markdown",
      "source": [
        "\n",
        "1. x and t domain respectively\n",
        "* [-1,1]x[0,1]\n",
        "\n",
        "2. Where x and t are the inputs and u is returned as a solution to the equaiton:\n",
        "* $\\frac{∂u}{∂t} + u \\frac{∂u}{∂x} -\\frac{0.01}{\\pi} \\frac{∂^2u}{∂x^2} = 0$\n",
        "\n",
        "3. with initial condition of:\n",
        "* $u(x, t=0) = -sin(\\pi x)$\n",
        "\n",
        "4. and boundary condition of:\n",
        "* $u(x=-1,t) = 0$ and $u(x=1,t)=0$"
      ],
      "metadata": {
        "id": "scNFnbvTwSKa"
      }
    },
    {
      "cell_type": "code",
      "source": [
        "import tensorflow as tf\n",
        "import matplotlib.pyplot as plt\n",
        "import numpy as np\n",
        "import scipy.integrate as integrate  \n",
        "from google.colab import files\n",
        "import imageio\n",
        "import os\n",
        "from numpy import sqrt, sin, cos, pi, exp, inf\n",
        "from scipy.stats import qmc"
      ],
      "metadata": {
        "id": "084OxDOU97-j"
      },
      "execution_count": 1,
      "outputs": []
    },
    {
      "cell_type": "markdown",
      "source": [
        "## data generation"
      ],
      "metadata": {
        "id": "YFuGBU7_zlWq"
      }
    },
    {
      "cell_type": "code",
      "source": [
        "# take 25 boundary condition samples\n",
        "n_samples_bc = 25\n",
        "\n",
        "# first boundary condition: u(x=-1, t) = 0\n",
        "\n",
        "# generate x data when x=-1\n",
        "x0_BC_1 = -1*np.ones(n_samples_bc).reshape(n_samples_bc,1)     # reshape to give second dimension\n",
        "\n",
        "# generate t data between 0,1\n",
        "t0_BC_1 = np.linspace(0,1,n_samples_bc).reshape(n_samples_bc,1)\n",
        "\n",
        "# since u = 0 at this boundary condition\n",
        "u0_BC_1 = np.zeros(n_samples_bc).reshape(n_samples_bc,1)\n",
        "\n",
        "# second boundary condition: u(x=1, t) = 0\n",
        "\n",
        "# generate x data when x=1\n",
        "x0_BC_2 = np.ones(n_samples_bc).reshape(n_samples_bc,1)     # reshape to give second dimension\n",
        "\n",
        "# generate t data between 0,1\n",
        "t0_BC_2 = np.linspace(0,1,n_samples_bc).reshape(n_samples_bc,1)\n",
        "\n",
        "# since u = 0 at this boundary condition\n",
        "u0_BC_2 = np.zeros(n_samples_bc).reshape(n_samples_bc,1)"
      ],
      "metadata": {
        "id": "L2JmXymvzpvK"
      },
      "execution_count": 2,
      "outputs": []
    },
    {
      "cell_type": "code",
      "source": [
        "# take 50 initial condition samples\n",
        "n_samples_ic = 50\n",
        "\n",
        "# initial condition: u(x, t=0) = -sin(\\pi x)\n",
        "\n",
        "# equally spaced x's on the domain [-1,1]\n",
        "x0_IC = np.linspace(-1,1,n_samples_ic).reshape(n_samples_ic,1)\n",
        "\n",
        "# t=0 at the IC\n",
        "t0_IC = np.zeros(n_samples_ic).reshape(n_samples_ic,1)\n",
        "\n",
        "# u is given by u(x, t=0) = -sin(\\pi x)\n",
        "u0_IC = -np.sin(np.pi*x0_IC).reshape(n_samples_ic,1)"
      ],
      "metadata": {
        "id": "H5mWizY01Z3f"
      },
      "execution_count": 3,
      "outputs": []
    },
    {
      "cell_type": "code",
      "source": [
        "# group data together \n",
        "X0 = np.concatenate([x0_IC, x0_BC_1, x0_BC_2])\n",
        "T0 = np.concatenate([t0_IC, t0_BC_1, t0_BC_2])\n",
        "U0 = np.concatenate([u0_IC, u0_BC_1, u0_BC_2])"
      ],
      "metadata": {
        "id": "wMt1XiRV2xmH"
      },
      "execution_count": 4,
      "outputs": []
    },
    {
      "cell_type": "code",
      "source": [
        "# Select 10,000 points to enforce the output of the network to fulfill the Burger's equation.\n",
        "n_samples_coll = 10000\n",
        "\n",
        "sampler = qmc.Sobol(2)\n",
        "points = sampler.random(n_samples_coll)\n",
        "\n",
        "# since this returns between 0 and 1\n",
        "print(min(points[:,0]), max(points[:,0]))\n",
        "\n",
        "# for x data \n",
        "x_data = 2*points[:,0] - 1 # this returns it between -1 and 1 \n",
        "x_data = x_data.reshape(n_samples_coll,1)\n",
        "print(min(x_data), max(x_data))\n",
        "\n",
        "# while for t it already is between 0 and 1\n",
        "t_data = points[:,1].reshape(n_samples_coll,1)\n",
        "print(min(t_data), max(t_data))"
      ],
      "metadata": {
        "colab": {
          "base_uri": "https://localhost:8080/"
        },
        "id": "VW6yDmGj3RZ6",
        "outputId": "815658e3-7490-4f83-a569-29073ab336bf"
      },
      "execution_count": 5,
      "outputs": [
        {
          "output_type": "stream",
          "name": "stdout",
          "text": [
            "0.00011140760034322739 0.9999562501907349\n",
            "[-0.99977718] [0.9999125]\n",
            "[3.50177288e-05] [0.99999112]\n"
          ]
        },
        {
          "output_type": "stream",
          "name": "stderr",
          "text": [
            "/usr/local/lib/python3.7/dist-packages/scipy/stats/_qmc.py:1078: UserWarning: The balance properties of Sobol' points require n to be a power of 2.\n",
            "  warnings.warn(\"The balance properties of Sobol' points require\"\n"
          ]
        }
      ]
    },
    {
      "cell_type": "code",
      "source": [
        "x_tensor = tf.convert_to_tensor(x_data, dtype=tf.float32)\n",
        "t_tensor = tf.convert_to_tensor(t_data, dtype=tf.float32)\n",
        "x0_tensor = tf.convert_to_tensor(X0, dtype=tf.float32)\n",
        "t0_tensor = tf.convert_to_tensor(T0, dtype=tf.float32)\n",
        "u0_tensor = tf.convert_to_tensor(U0, dtype=tf.float32)"
      ],
      "metadata": {
        "id": "1xEBXWnsac7F"
      },
      "execution_count": 6,
      "outputs": []
    },
    {
      "cell_type": "code",
      "source": [
        "train_dataset = tf.data.Dataset.from_tensor_slices((x_tensor, t_tensor))\n",
        "\n",
        "batch_size = 100\n",
        "train_dataset_shuffled = train_dataset.shuffle(10000).batch(batch_size)"
      ],
      "metadata": {
        "id": "bEpwKpfWjVXB"
      },
      "execution_count": 7,
      "outputs": []
    },
    {
      "cell_type": "markdown",
      "source": [
        "# define and initialize model "
      ],
      "metadata": {
        "id": "vmVol8XU-ov1"
      }
    },
    {
      "cell_type": "code",
      "source": [
        "def create_model():\n",
        "  inputs = tf.keras.Input((2))\n",
        "  L1 = tf.keras.layers.Dense(20, activation='tanh')(inputs)\n",
        "  L2 = tf.keras.layers.Dense(20, activation='tanh')(L1)\n",
        "  L3 = tf.keras.layers.Dense(20, activation='tanh')(L2)\n",
        "  L4 = tf.keras.layers.Dense(20, activation='tanh')(L3)\n",
        "  L5 = tf.keras.layers.Dense(20, activation='tanh')(L4)\n",
        "  L6 = tf.keras.layers.Dense(20, activation='tanh')(L5)\n",
        "  L7 = tf.keras.layers.Dense(20, activation='tanh')(L6)\n",
        "  L8 = tf.keras.layers.Dense(20, activation='tanh')(L7)\n",
        "  L9 = tf.keras.layers.Dense(20, activation='tanh')(L8)\n",
        "  outputs = tf.keras.layers.Dense(1, activation='tanh')(L9)\n",
        "\n",
        "  model = tf.keras.Model(inputs=inputs, outputs=outputs)\n",
        "  return model"
      ],
      "metadata": {
        "id": "VcEcol_N-xDG"
      },
      "execution_count": 8,
      "outputs": []
    },
    {
      "cell_type": "markdown",
      "source": [
        "$\\frac{∂u}{∂t} + u \\frac{∂u}{∂x} -\\frac{0.01}{\\pi} \\frac{∂^2u}{∂x^2} = 0$"
      ],
      "metadata": {
        "id": "NR41VLqhDN1S"
      }
    },
    {
      "cell_type": "code",
      "source": [
        "def MSE(y_pred, y_true=None):\n",
        "    '''mean square error of y_pred - y_true if y_true is given, else mean sqaure error of y_pred'''\n",
        "    if y_true is None:\n",
        "        return tf.reduce_mean(y_pred ** 2)\n",
        "    else:\n",
        "        return tf.reduce_mean((y_pred - y_true) ** 2)"
      ],
      "metadata": {
        "id": "gXh8PEVJGn0G"
      },
      "execution_count": 9,
      "outputs": []
    },
    {
      "cell_type": "code",
      "source": [
        "def loss(model, x, t, x0, t0, u0):\n",
        "  # residual loss for PDE\n",
        "  t_copy = tf.identity(t)\n",
        "  x_copy = tf.identity(x)\n",
        "  with tf.GradientTape() as touter:\n",
        "    touter.watch([t_copy, x_copy])\n",
        "    with tf.GradientTape(persistent=True) as t:\n",
        "      t.watch([t_copy, x_copy])\n",
        "      x_and_t = tf.concat([x_copy,t_copy],1)\n",
        "      u_pred = model(x_and_t)\n",
        "    Ut = t.gradient(u_pred, t_copy)\n",
        "    Ux = t.gradient(u_pred, x_copy)\n",
        "  Uxx = touter.gradient(Ux, x_copy)\n",
        "\n",
        "  res = Ut + u_pred*Ux - (0.01/np.pi)*Uxx\n",
        "  res_loss = sum([MSE(res_i) for res_i in res]) \n",
        "  \n",
        "\n",
        "  # inital condition and boundary (icab)\n",
        "  x_and_t_icab = tf.concat([x0,t0],1)\n",
        "  icab_pred = model(x_and_t_icab)\n",
        "  icab_loss = sum([MSE(icab_pred, u0)])\n",
        "\n",
        "  total_loss = res_loss + icab_loss\n",
        "  \n",
        "  return total_loss"
      ],
      "metadata": {
        "id": "cUryQCMeF1R7"
      },
      "execution_count": 10,
      "outputs": []
    },
    {
      "cell_type": "code",
      "source": [
        "# model = create_model()\n",
        "\n",
        "# initial_learning_rate = 0.1\n",
        "# lr_schedule = tf.keras.optimizers.schedules.ExponentialDecay(\n",
        "#     initial_learning_rate,\n",
        "#     decay_steps=3000,\n",
        "#     decay_rate=0.005)\n",
        "\n",
        "# epochs = 3000\n",
        "# optimizer = tf.keras.optimizers.Adam(lr_schedule)\n",
        "\n",
        "# for epoch in range(epochs):\n",
        "#   for x_batch, t_batch in train_dataset_shuffled:\n",
        "#     with tf.GradientTape() as t_opt:\n",
        "#       total_loss = loss(model, x_batch, t_batch, x0_tensor, t0_tensor, u0_tensor)\n",
        "#     optimizer.minimize(total_loss, [model.trainable_variables], tape=t_opt)\n",
        "\n",
        "#   if epoch % 1 == 0:\n",
        "#     print(f'Epoch = {epoch}, Loss = {total_loss.numpy()}')\n"
      ],
      "metadata": {
        "id": "Cb42kFBYVG-2"
      },
      "execution_count": 11,
      "outputs": []
    },
    {
      "cell_type": "code",
      "source": [
        "def solve_burgers(X, t, nu):  \n",
        "  def f(y):\n",
        "    return exp(-cos(pi*y)/(2*pi*nu))\n",
        "\n",
        "  def g(y):\n",
        "    return exp(-(y**2)/(4*nu*t))\n",
        "\n",
        "  def fun_1(eta):\n",
        "    return sin(pi*(x-eta))*f(x-eta)*g(eta)\n",
        "\n",
        "  def fun_2(eta):\n",
        "    return f(x-eta)*g(eta)\n",
        "\n",
        "  # Initialize solutions\n",
        "  U = np.zeros_like(X)\n",
        "\n",
        "  # loop over x's\n",
        "  for i in range(len(X)):\n",
        "    x = X[i]\n",
        "\n",
        "    if abs(x) != 1:\n",
        "      uxt = -integrate.quad(fun_1, -inf, inf)[0]\n",
        "      vxt = integrate.quad(fun_2, -inf, inf)[0]\n",
        "      U[i] = uxt / vxt\n",
        "      \n",
        "  return U"
      ],
      "metadata": {
        "id": "56-WB0LWeVaq"
      },
      "execution_count": 12,
      "outputs": []
    },
    {
      "cell_type": "code",
      "source": [
        "# t_test = [0.25, 0.5, 0.75, 1]\n",
        "# numPredictions = 1000\n",
        "# x_test = np.linspace(-1,1,numPredictions).reshape(numPredictions, -1)\n",
        "\n",
        "# prediction_list = []\n",
        "# true_value_list = []\n",
        "\n",
        "# for time in t_test:\n",
        "\n",
        "#   ts = time*np.ones(numPredictions).reshape(numPredictions, -1)\n",
        "\n",
        "#   true_value = solve_burgers(x_test, time, 0.01/pi)\n",
        "#   true_value_list.append(true_value)\n",
        "\n",
        "#   x_test_tensor = tf.convert_to_tensor(x_test, dtype = tf.float32)\n",
        "#   ts_tensor = tf.convert_to_tensor(ts, dtype = tf.float32)\n",
        "\n",
        "#   inputs_x_t_test = tf.concat([x_test_tensor,ts_tensor],1)\n",
        "\n",
        "#   predictions = model(inputs_x_t_test)\n",
        "#   prediction_list.append(predictions)"
      ],
      "metadata": {
        "id": "e_DLM3I73Sz2"
      },
      "execution_count": 13,
      "outputs": []
    },
    {
      "cell_type": "code",
      "source": [
        "# fig, ax = plt.subplots(2,2, figsize=(18,8), )\n",
        "# ax[0,0].plot(x_test_tensor, prediction_list[0], label='Prediction'), ax[0,0].set_title('time = 0.25s')\n",
        "# ax[0,0].plot(x_test_tensor, true_value_list[0], label='True Value')\n",
        "\n",
        "# ax[0,1].plot(x_test_tensor, prediction_list[1], label='Prediction'), ax[0,1].set_title('time = 0.50s')\n",
        "# ax[0,1].plot(x_test_tensor, true_value_list[1], label='True Value')\n",
        "\n",
        "# ax[1,0].plot(x_test_tensor, prediction_list[2], label='Prediction'), ax[1,0].set_title('time = 0.75s')\n",
        "# ax[1,0].plot(x_test_tensor, true_value_list[2], label='True Value')\n",
        "\n",
        "# ax[1,1].plot(x_test_tensor, prediction_list[3], label='Prediction'), ax[1,1].set_title('time = 1.00s')\n",
        "# ax[1,1].plot(x_test_tensor, true_value_list[3], label='True Value')\n",
        "\n",
        "# plt.legend()"
      ],
      "metadata": {
        "id": "bzF5-xt7g2yP"
      },
      "execution_count": 14,
      "outputs": []
    },
    {
      "cell_type": "code",
      "source": [
        "filenames = []\n",
        "t_test = [0.25, 0.5, 0.75, 1]\n",
        "numPredictions = 1000\n",
        "x_test = np.linspace(-1,1,numPredictions).reshape(numPredictions, -1)\n",
        "\n",
        "true_value_list = []\n",
        "\n",
        "for time in t_test:\n",
        "  true_value = solve_burgers(x_test, time, 0.01/pi)\n",
        "  true_value_list.append(true_value)\n",
        "\n",
        "\n",
        "model = create_model()\n",
        "\n",
        "epochs = 100\n",
        "optimizer = tf.keras.optimizers.Adam(learning_rate=0.001)\n",
        "\n",
        "for epoch in range(epochs):\n",
        "  for x_batch, t_batch in train_dataset_shuffled:\n",
        "    with tf.GradientTape() as t_opt:\n",
        "      total_loss = loss(model, x_batch, t_batch, x0_tensor, t0_tensor, u0_tensor)\n",
        "    optimizer.minimize(total_loss, [model.trainable_variables], tape=t_opt)\n",
        "\n",
        "  print(f'Epoch = {epoch}, Loss = {total_loss.numpy()}')\n",
        "\n",
        "  prediction_list = []\n",
        "  for time in t_test:\n",
        "\n",
        "    ts = time*np.ones(numPredictions).reshape(numPredictions, -1)\n",
        "\n",
        "    x_test_tensor = tf.convert_to_tensor(x_test, dtype = tf.float32)\n",
        "    ts_tensor = tf.convert_to_tensor(ts, dtype = tf.float32)\n",
        "\n",
        "    inputs_x_t_test = tf.concat([x_test_tensor,ts_tensor],1)\n",
        "\n",
        "    predictions = model(inputs_x_t_test)\n",
        "    prediction_list.append(predictions)\n",
        "\n",
        "  # plot the line chart\n",
        "  fig, ax = plt.subplots(2,2, figsize=(18,8), )\n",
        "  ax[0,0].plot(x_test_tensor, prediction_list[0], label='Prediction'), ax[0,0].set_title('time = 0.25s')\n",
        "  ax[0,0].plot(x_test_tensor, true_value_list[0], label='True Value')\n",
        "\n",
        "  ax[0,1].plot(x_test_tensor, prediction_list[1], label='Prediction'), ax[0,1].set_title('time = 0.50s')\n",
        "  ax[0,1].plot(x_test_tensor, true_value_list[1], label='True Value')\n",
        "\n",
        "  ax[1,0].plot(x_test_tensor, prediction_list[2], label='Prediction'), ax[1,0].set_title('time = 0.75s')\n",
        "  ax[1,0].plot(x_test_tensor, true_value_list[2], label='True Value')\n",
        "\n",
        "  ax[1,1].plot(x_test_tensor, prediction_list[3], label='Prediction'), ax[1,1].set_title('time = 1.00s')\n",
        "  ax[1,1].plot(x_test_tensor, true_value_list[3], label='True Value')\n",
        "\n",
        "  plt.legend()\n",
        "  # create file name and append it to a list\n",
        "  filename = f'{epoch}.png'\n",
        "  filenames.append(filename)\n",
        "  \n",
        "  # save frame\n",
        "  plt.savefig(filename)\n",
        "  plt.close()\n",
        "\n",
        "# build gif\n",
        "with imageio.get_writer('mygif.gif', mode='I') as writer:\n",
        "    for filename in filenames:\n",
        "        image = imageio.imread(filename)\n",
        "        writer.append_data(image)\n",
        "        \n",
        "# Remove files\n",
        "for filename in set(filenames):\n",
        "    os.remove(filename)\n",
        "\n",
        "files.download('mygif.gif')"
      ],
      "metadata": {
        "id": "C7WmEWSTgmXY",
        "outputId": "f93e2d84-4289-4e23-9a87-2abe2e859200",
        "colab": {
          "base_uri": "https://localhost:8080/",
          "height": 1000
        }
      },
      "execution_count": 16,
      "outputs": [
        {
          "output_type": "stream",
          "name": "stdout",
          "text": [
            "Epoch = 0, Loss = 0.22450073063373566\n",
            "Epoch = 1, Loss = 0.21397711336612701\n",
            "Epoch = 2, Loss = 0.20325373113155365\n",
            "Epoch = 3, Loss = 0.2001264989376068\n",
            "Epoch = 4, Loss = 0.19653482735157013\n",
            "Epoch = 5, Loss = 0.19425059854984283\n",
            "Epoch = 6, Loss = 0.18545812368392944\n",
            "Epoch = 7, Loss = 0.18313761055469513\n",
            "Epoch = 8, Loss = 0.1754743903875351\n",
            "Epoch = 9, Loss = 0.16918697953224182\n",
            "Epoch = 10, Loss = 0.16576993465423584\n",
            "Epoch = 11, Loss = 0.16023008525371552\n",
            "Epoch = 12, Loss = 0.16132132709026337\n",
            "Epoch = 13, Loss = 0.16147911548614502\n",
            "Epoch = 14, Loss = 0.149958536028862\n",
            "Epoch = 15, Loss = 0.15338779985904694\n",
            "Epoch = 16, Loss = 0.1429603397846222\n",
            "Epoch = 17, Loss = 0.13702233135700226\n",
            "Epoch = 18, Loss = 0.13316136598587036\n",
            "Epoch = 19, Loss = 0.12710188329219818\n",
            "Epoch = 20, Loss = 0.1255512535572052\n",
            "Epoch = 21, Loss = 0.129952535033226\n",
            "Epoch = 22, Loss = 0.12068505585193634\n",
            "Epoch = 23, Loss = 0.12596365809440613\n",
            "Epoch = 24, Loss = 0.11750897020101547\n",
            "Epoch = 25, Loss = 0.10960443317890167\n",
            "Epoch = 26, Loss = 0.11024948954582214\n",
            "Epoch = 27, Loss = 0.12317805737257004\n",
            "Epoch = 28, Loss = 0.11109823733568192\n",
            "Epoch = 29, Loss = 0.14540599286556244\n",
            "Epoch = 30, Loss = 0.11222951859235764\n",
            "Epoch = 31, Loss = 0.11507485061883926\n",
            "Epoch = 32, Loss = 0.10971046984195709\n",
            "Epoch = 33, Loss = 0.11036366969347\n",
            "Epoch = 34, Loss = 0.10775348544120789\n",
            "Epoch = 35, Loss = 0.10078093409538269\n",
            "Epoch = 36, Loss = 0.10432209074497223\n",
            "Epoch = 37, Loss = 0.09974578022956848\n",
            "Epoch = 38, Loss = 0.1118476465344429\n",
            "Epoch = 39, Loss = 0.09906654804944992\n",
            "Epoch = 40, Loss = 0.10980343818664551\n",
            "Epoch = 41, Loss = 0.10396687686443329\n",
            "Epoch = 42, Loss = 0.20857790112495422\n",
            "Epoch = 43, Loss = 0.1167839765548706\n",
            "Epoch = 44, Loss = 0.10881499201059341\n",
            "Epoch = 45, Loss = 0.13342326879501343\n",
            "Epoch = 46, Loss = 0.12355995923280716\n",
            "Epoch = 47, Loss = 0.10221809148788452\n",
            "Epoch = 48, Loss = 0.13374236226081848\n",
            "Epoch = 49, Loss = 0.09939054399728775\n",
            "Epoch = 50, Loss = 0.13028962910175323\n",
            "Epoch = 51, Loss = 0.10621003806591034\n",
            "Epoch = 52, Loss = 0.10573163628578186\n",
            "Epoch = 53, Loss = 0.0922803282737732\n",
            "Epoch = 54, Loss = 0.08999933302402496\n",
            "Epoch = 55, Loss = 0.11036163568496704\n",
            "Epoch = 56, Loss = 0.09655221551656723\n",
            "Epoch = 57, Loss = 0.1457580327987671\n",
            "Epoch = 58, Loss = 0.10614563524723053\n",
            "Epoch = 59, Loss = 0.09272221475839615\n",
            "Epoch = 60, Loss = 0.205166295170784\n",
            "Epoch = 61, Loss = 0.11493468284606934\n",
            "Epoch = 62, Loss = 0.10909832268953323\n",
            "Epoch = 63, Loss = 0.09411761164665222\n",
            "Epoch = 64, Loss = 0.1588350236415863\n",
            "Epoch = 65, Loss = 0.09120000898838043\n",
            "Epoch = 66, Loss = 0.09442351013422012\n",
            "Epoch = 67, Loss = 0.13519693911075592\n",
            "Epoch = 68, Loss = 0.10070084035396576\n",
            "Epoch = 69, Loss = 0.08232035487890244\n",
            "Epoch = 70, Loss = 0.0924585610628128\n",
            "Epoch = 71, Loss = 0.09959106147289276\n",
            "Epoch = 72, Loss = 0.10688132047653198\n",
            "Epoch = 73, Loss = 0.09457139670848846\n",
            "Epoch = 74, Loss = 0.08853330463171005\n",
            "Epoch = 75, Loss = 0.09755220264196396\n",
            "Epoch = 76, Loss = 0.26181650161743164\n",
            "Epoch = 77, Loss = 0.08793887495994568\n",
            "Epoch = 78, Loss = 0.0941765084862709\n",
            "Epoch = 79, Loss = 0.11101701110601425\n",
            "Epoch = 80, Loss = 0.0830019861459732\n",
            "Epoch = 81, Loss = 0.09414726495742798\n",
            "Epoch = 82, Loss = 0.08842834830284119\n",
            "Epoch = 83, Loss = 0.09209077805280685\n",
            "Epoch = 84, Loss = 0.07874497026205063\n",
            "Epoch = 85, Loss = 0.07782194018363953\n",
            "Epoch = 86, Loss = 0.15774309635162354\n",
            "Epoch = 87, Loss = 0.09541469067335129\n",
            "Epoch = 88, Loss = 0.1177748590707779\n",
            "Epoch = 89, Loss = 0.09108948707580566\n",
            "Epoch = 90, Loss = 0.08852405846118927\n",
            "Epoch = 91, Loss = 0.14496976137161255\n",
            "Epoch = 92, Loss = 0.09045293182134628\n",
            "Epoch = 93, Loss = 0.07873617857694626\n",
            "Epoch = 94, Loss = 0.08115015923976898\n",
            "Epoch = 95, Loss = 0.08211440593004227\n",
            "Epoch = 96, Loss = 0.07611596584320068\n",
            "Epoch = 97, Loss = 0.07875727117061615\n",
            "Epoch = 98, Loss = 0.12068784236907959\n",
            "Epoch = 99, Loss = 0.07909935712814331\n"
          ]
        },
        {
          "output_type": "display_data",
          "data": {
            "text/plain": [
              "<IPython.core.display.Javascript object>"
            ],
            "application/javascript": [
              "\n",
              "    async function download(id, filename, size) {\n",
              "      if (!google.colab.kernel.accessAllowed) {\n",
              "        return;\n",
              "      }\n",
              "      const div = document.createElement('div');\n",
              "      const label = document.createElement('label');\n",
              "      label.textContent = `Downloading \"${filename}\": `;\n",
              "      div.appendChild(label);\n",
              "      const progress = document.createElement('progress');\n",
              "      progress.max = size;\n",
              "      div.appendChild(progress);\n",
              "      document.body.appendChild(div);\n",
              "\n",
              "      const buffers = [];\n",
              "      let downloaded = 0;\n",
              "\n",
              "      const channel = await google.colab.kernel.comms.open(id);\n",
              "      // Send a message to notify the kernel that we're ready.\n",
              "      channel.send({})\n",
              "\n",
              "      for await (const message of channel.messages) {\n",
              "        // Send a message to notify the kernel that we're ready.\n",
              "        channel.send({})\n",
              "        if (message.buffers) {\n",
              "          for (const buffer of message.buffers) {\n",
              "            buffers.push(buffer);\n",
              "            downloaded += buffer.byteLength;\n",
              "            progress.value = downloaded;\n",
              "          }\n",
              "        }\n",
              "      }\n",
              "      const blob = new Blob(buffers, {type: 'application/binary'});\n",
              "      const a = document.createElement('a');\n",
              "      a.href = window.URL.createObjectURL(blob);\n",
              "      a.download = filename;\n",
              "      div.appendChild(a);\n",
              "      a.click();\n",
              "      div.remove();\n",
              "    }\n",
              "  "
            ]
          },
          "metadata": {}
        },
        {
          "output_type": "display_data",
          "data": {
            "text/plain": [
              "<IPython.core.display.Javascript object>"
            ],
            "application/javascript": [
              "download(\"download_aba961b0-4a30-4cb7-8ff0-72f19f8c4672\", \"mygif.gif\", 10226504)"
            ]
          },
          "metadata": {}
        }
      ]
    }
  ]
}