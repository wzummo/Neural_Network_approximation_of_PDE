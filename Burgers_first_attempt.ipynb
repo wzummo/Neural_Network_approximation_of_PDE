{
  "nbformat": 4,
  "nbformat_minor": 0,
  "metadata": {
    "colab": {
      "name": "Burgers_first_attempt",
      "provenance": [],
      "mount_file_id": "1zc2s5RzJ6YQCTPt5ePcbjnRJsgRFuuDk",
      "authorship_tag": "ABX9TyPtThd34R9w2AUomiB/2XoJ",
      "include_colab_link": true
    },
    "kernelspec": {
      "name": "python3",
      "display_name": "Python 3"
    },
    "language_info": {
      "name": "python"
    },
    "accelerator": "GPU",
    "gpuClass": "standard"
  },
  "cells": [
    {
      "cell_type": "markdown",
      "metadata": {
        "id": "view-in-github",
        "colab_type": "text"
      },
      "source": [
        "<a href=\"https://colab.research.google.com/github/wzummo/Neural_Network_approximation_of_PDE/blob/main/Burgers_first_attempt.ipynb\" target=\"_parent\"><img src=\"https://colab.research.google.com/assets/colab-badge.svg\" alt=\"Open In Colab\"/></a>"
      ]
    },
    {
      "cell_type": "markdown",
      "source": [
        "# Burgers Equation example"
      ],
      "metadata": {
        "id": "916VqGw8vWlM"
      }
    },
    {
      "cell_type": "markdown",
      "source": [
        "\n",
        "1. x and t domain respectively\n",
        "* [-1,1]x[0,1]\n",
        "\n",
        "2. Where x and t are the inputs and u is returned as a solution to the equaiton:\n",
        "* $\\frac{∂u}{∂t} + u \\frac{∂u}{∂x} -\\frac{0.01}{\\pi} \\frac{∂^2u}{∂x^2} = 0$\n",
        "\n",
        "3. with initial condition of:\n",
        "* $u(x, t=0) = -sin(\\pi x)$\n",
        "\n",
        "4. and boundary condition of:\n",
        "* $u(x=-1,t) = 0$ and $u(x=1,t)=0$"
      ],
      "metadata": {
        "id": "scNFnbvTwSKa"
      }
    },
    {
      "cell_type": "code",
      "source": [
        "import tensorflow as tf\n",
        "import matplotlib.pyplot as plt\n",
        "import numpy as np"
      ],
      "metadata": {
        "id": "084OxDOU97-j"
      },
      "execution_count": 1,
      "outputs": []
    },
    {
      "cell_type": "markdown",
      "source": [
        "## data generation"
      ],
      "metadata": {
        "id": "YFuGBU7_zlWq"
      }
    },
    {
      "cell_type": "code",
      "source": [
        "# take 25 boundary condition samples\n",
        "n_samples_bc = 25\n",
        "\n",
        "# first boundary condition: u(x=-1, t) = 0\n",
        "\n",
        "# generate x data when x=-1\n",
        "x0_BC_1 = -1*np.ones(n_samples_bc).reshape(n_samples_bc,1)     # reshape to give second dimension\n",
        "\n",
        "# generate t data between 0,1\n",
        "t0_BC_1 = np.linspace(0,1,n_samples_bc).reshape(n_samples_bc,1)\n",
        "\n",
        "# since u = 0 at this boundary condition\n",
        "u0_BC_1 = np.zeros(n_samples_bc).reshape(n_samples_bc,1)\n",
        "\n",
        "# second boundary condition: u(x=1, t) = 0\n",
        "\n",
        "# generate x data when x=1\n",
        "x0_BC_2 = np.ones(n_samples_bc).reshape(n_samples_bc,1)     # reshape to give second dimension\n",
        "\n",
        "# generate t data between 0,1\n",
        "t0_BC_2 = np.linspace(0,1,n_samples_bc).reshape(n_samples_bc,1)\n",
        "\n",
        "# since u = 0 at this boundary condition\n",
        "u0_BC_2 = np.zeros(n_samples_bc).reshape(n_samples_bc,1)"
      ],
      "metadata": {
        "id": "L2JmXymvzpvK"
      },
      "execution_count": 2,
      "outputs": []
    },
    {
      "cell_type": "code",
      "source": [
        "# take 50 initial condition samples\n",
        "n_samples_ic = 50\n",
        "\n",
        "# initial condition: u(x, t=0) = -sin(\\pi x)\n",
        "\n",
        "# equally spaced x's on the domain [-1,1]\n",
        "x0_IC = np.linspace(-1,1,n_samples_ic).reshape(n_samples_ic,1)\n",
        "\n",
        "# t=0 at the IC\n",
        "t0_IC = np.zeros(n_samples_ic).reshape(n_samples_ic,1)\n",
        "\n",
        "# u is given by u(x, t=0) = -sin(\\pi x)\n",
        "u0_IC = -np.sin(np.pi*x0_IC).reshape(n_samples_ic,1)"
      ],
      "metadata": {
        "id": "H5mWizY01Z3f"
      },
      "execution_count": 3,
      "outputs": []
    },
    {
      "cell_type": "code",
      "source": [
        "# group data together \n",
        "X0 = np.concatenate([x0_IC, x0_BC_1, x0_BC_2])\n",
        "T0 = np.concatenate([t0_IC, t0_BC_1, t0_BC_2])\n",
        "U0 = np.concatenate([u0_IC, u0_BC_1, u0_BC_2])"
      ],
      "metadata": {
        "id": "wMt1XiRV2xmH"
      },
      "execution_count": 4,
      "outputs": []
    },
    {
      "cell_type": "code",
      "source": [
        "# Select 10,000 points to enforce the output of the network to fulfill the Burger's equation.\n",
        "n_samples_coll = 10000\n",
        "\n",
        "from scipy.stats import qmc\n",
        "\n",
        "sampler = qmc.Sobol(2)\n",
        "points = sampler.random(n_samples_coll)\n",
        "\n",
        "# since this returns between 0 and 1\n",
        "print(min(points[:,0]), max(points[:,0]))\n",
        "\n",
        "# for x data \n",
        "x_data = 2*points[:,0] - 1 # this returns it between -1 and 1 \n",
        "x_data = x_data.reshape(n_samples_coll,1)\n",
        "print(min(x_data), max(x_data))\n",
        "\n",
        "# while for t it already is between 0 and 1\n",
        "t_data = points[:,1].reshape(n_samples_coll,1)\n",
        "print(min(t_data), max(t_data))"
      ],
      "metadata": {
        "colab": {
          "base_uri": "https://localhost:8080/"
        },
        "id": "VW6yDmGj3RZ6",
        "outputId": "f3a01e4b-faf5-43c6-ec2e-a6f7cd8c603a"
      },
      "execution_count": 5,
      "outputs": [
        {
          "output_type": "stream",
          "name": "stdout",
          "text": [
            "3.1813979148864746e-06 0.9999810457229614\n",
            "[-0.99999364] [0.99996209]\n",
            "[4.31882218e-05] [0.99989426]\n"
          ]
        },
        {
          "output_type": "stream",
          "name": "stderr",
          "text": [
            "/usr/local/lib/python3.7/dist-packages/scipy/stats/_qmc.py:1078: UserWarning: The balance properties of Sobol' points require n to be a power of 2.\n",
            "  warnings.warn(\"The balance properties of Sobol' points require\"\n"
          ]
        }
      ]
    },
    {
      "cell_type": "code",
      "source": [
        "x_tensor = tf.convert_to_tensor(x_data, dtype=tf.float32)\n",
        "t_tensor = tf.convert_to_tensor(t_data, dtype=tf.float32)\n",
        "x0_tensor = tf.convert_to_tensor(X0, dtype=tf.float32)\n",
        "t0_tensor = tf.convert_to_tensor(T0, dtype=tf.float32)\n",
        "u0_tensor = tf.convert_to_tensor(U0, dtype=tf.float32)"
      ],
      "metadata": {
        "id": "1xEBXWnsac7F"
      },
      "execution_count": 6,
      "outputs": []
    },
    {
      "cell_type": "code",
      "source": [
        "train_dataset = tf.data.Dataset.from_tensor_slices((x_tensor, t_tensor))\n",
        "\n",
        "batch_size = 100\n",
        "train_dataset_shuffled = train_dataset.shuffle(10000).batch(batch_size)"
      ],
      "metadata": {
        "id": "bEpwKpfWjVXB"
      },
      "execution_count": 7,
      "outputs": []
    },
    {
      "cell_type": "markdown",
      "source": [
        "# define and initialize model "
      ],
      "metadata": {
        "id": "vmVol8XU-ov1"
      }
    },
    {
      "cell_type": "code",
      "source": [
        "def create_model():\n",
        "  inputs = tf.keras.Input((2))\n",
        "  L1 = tf.keras.layers.Dense(20, activation='tanh')(inputs)\n",
        "  L2 = tf.keras.layers.Dense(20, activation='tanh')(L1)\n",
        "  L3 = tf.keras.layers.Dense(20, activation='tanh')(L2)\n",
        "  L4 = tf.keras.layers.Dense(20, activation='tanh')(L3)\n",
        "  L5 = tf.keras.layers.Dense(20, activation='tanh')(L4)\n",
        "  L6 = tf.keras.layers.Dense(20, activation='tanh')(L5)\n",
        "  L7 = tf.keras.layers.Dense(20, activation='tanh')(L6)\n",
        "  L8 = tf.keras.layers.Dense(20, activation='tanh')(L7)\n",
        "  L9 = tf.keras.layers.Dense(20, activation='tanh')(L8)\n",
        "  outputs = tf.keras.layers.Dense(1, activation='tanh')(L9)\n",
        "\n",
        "  model = tf.keras.Model(inputs=inputs, outputs=outputs)\n",
        "  return model"
      ],
      "metadata": {
        "id": "VcEcol_N-xDG"
      },
      "execution_count": 8,
      "outputs": []
    },
    {
      "cell_type": "markdown",
      "source": [
        "$\\frac{∂u}{∂t} + u \\frac{∂u}{∂x} -\\frac{0.01}{\\pi} \\frac{∂^2u}{∂x^2} = 0$"
      ],
      "metadata": {
        "id": "NR41VLqhDN1S"
      }
    },
    {
      "cell_type": "code",
      "source": [
        "def MSE(y_pred, y_true=None):\n",
        "    '''mean square error of y_pred - y_true if y_true is given, else mean sqaure error of y_pred'''\n",
        "    if y_true is None:\n",
        "        return tf.reduce_mean(y_pred ** 2)\n",
        "    else:\n",
        "        return tf.reduce_mean((y_pred - y_true) ** 2)"
      ],
      "metadata": {
        "id": "gXh8PEVJGn0G"
      },
      "execution_count": 9,
      "outputs": []
    },
    {
      "cell_type": "code",
      "source": [
        "def loss(model, x, t, x0, t0, u0):\n",
        "  # residual loss for PDE\n",
        "  t_copy = tf.identity(t)\n",
        "  x_copy = tf.identity(x)\n",
        "  with tf.GradientTape() as touter:\n",
        "    touter.watch([t_copy, x_copy])\n",
        "    with tf.GradientTape(persistent=True) as t:\n",
        "      t.watch([t_copy, x_copy])\n",
        "      x_and_t = tf.concat([x_copy,t_copy],1)\n",
        "      u_pred = model(x_and_t)\n",
        "    Ut = t.gradient(u_pred, t_copy)\n",
        "    Ux = t.gradient(u_pred, x_copy)\n",
        "  Uxx = touter.gradient(Ux, x_copy)\n",
        "\n",
        "  res = Ut + u_pred*Ux - (0.01/np.pi)*Uxx\n",
        "  res_loss = sum([MSE(res_i) for res_i in res]) \n",
        "  \n",
        "\n",
        "  # inital condition and boundary (icab)\n",
        "  x_and_t_icab = tf.concat([x0,t0],1)\n",
        "  icab_pred = model(x_and_t_icab)\n",
        "  icab_loss = sum([MSE(icab_pred, u0)])\n",
        "\n",
        "  total_loss = res_loss + icab_loss\n",
        "  \n",
        "  return total_loss"
      ],
      "metadata": {
        "id": "cUryQCMeF1R7"
      },
      "execution_count": 10,
      "outputs": []
    },
    {
      "cell_type": "code",
      "source": [
        "model = create_model()\n",
        "\n",
        "epochs = 20\n",
        "optimizer = tf.keras.optimizers.Adagrad(0.01)\n",
        "\n",
        "for epoch in range(epochs):\n",
        "  for x_batch, t_batch in train_dataset_shuffled:\n",
        "    with tf.GradientTape() as t_opt:\n",
        "      total_loss = loss(model, x_batch, t_batch, x0_tensor, t0_tensor, u0_tensor)\n",
        "    optimizer.minimize(total_loss, [model.trainable_variables], tape=t_opt)\n",
        "\n",
        "  if epoch % 1 == 0:\n",
        "    print(f'Epoch = {epoch}, Loss = {total_loss.numpy()}')\n"
      ],
      "metadata": {
        "colab": {
          "base_uri": "https://localhost:8080/"
        },
        "id": "Cb42kFBYVG-2",
        "outputId": "ee3e32f5-98f3-4416-84aa-87d0db0fc39b"
      },
      "execution_count": 13,
      "outputs": [
        {
          "output_type": "stream",
          "name": "stdout",
          "text": [
            "Epoch = 0, Loss = 0.22934146225452423\n",
            "Epoch = 1, Loss = 0.21494071185588837\n",
            "Epoch = 2, Loss = 0.20891988277435303\n",
            "Epoch = 3, Loss = 0.20653735101222992\n",
            "Epoch = 4, Loss = 0.2036811113357544\n",
            "Epoch = 5, Loss = 0.20363545417785645\n",
            "Epoch = 6, Loss = 0.2015700340270996\n",
            "Epoch = 7, Loss = 0.19836166501045227\n",
            "Epoch = 8, Loss = 0.19821660220623016\n",
            "Epoch = 9, Loss = 0.19562508165836334\n",
            "Epoch = 10, Loss = 0.19474583864212036\n",
            "Epoch = 11, Loss = 0.19159770011901855\n",
            "Epoch = 12, Loss = 0.19289013743400574\n",
            "Epoch = 13, Loss = 0.19088990986347198\n",
            "Epoch = 14, Loss = 0.18807682394981384\n",
            "Epoch = 15, Loss = 0.18718264997005463\n",
            "Epoch = 16, Loss = 0.18542340397834778\n",
            "Epoch = 17, Loss = 0.18600031733512878\n",
            "Epoch = 18, Loss = 0.18520627915859222\n",
            "Epoch = 19, Loss = 0.18531301617622375\n"
          ]
        }
      ]
    },
    {
      "cell_type": "code",
      "source": [
        "import scipy.integrate as integrate  "
      ],
      "metadata": {
        "id": "QcYNRCrTeLYA"
      },
      "execution_count": 14,
      "outputs": []
    },
    {
      "cell_type": "code",
      "source": [
        "from numpy import sqrt, sin, cos, pi, exp, inf"
      ],
      "metadata": {
        "id": "BfNJoMpceNYN"
      },
      "execution_count": 15,
      "outputs": []
    },
    {
      "cell_type": "code",
      "source": [
        "def solve_burgers(X, t, nu):  \n",
        "  def f(y):\n",
        "    return exp(-cos(pi*y)/(2*pi*nu))\n",
        "\n",
        "  def g(y):\n",
        "    return exp(-(y**2)/(4*nu*t))\n",
        "\n",
        "  def fun_1(eta):\n",
        "    return sin(pi*(x-eta))*f(x-eta)*g(eta)\n",
        "\n",
        "  def fun_2(eta):\n",
        "    return f(x-eta)*g(eta)\n",
        "\n",
        "  # Initialize solutions\n",
        "  U = np.zeros_like(X)\n",
        "\n",
        "  # loop over x's\n",
        "  for i in range(len(X)):\n",
        "    x = X[i]\n",
        "\n",
        "    if abs(x) != 1:\n",
        "      uxt = -integrate.quad(fun_1, -inf, inf)[0]\n",
        "      vxt = integrate.quad(fun_2, -inf, inf)[0]\n",
        "      U[i] = uxt / vxt\n",
        "      \n",
        "  return U"
      ],
      "metadata": {
        "id": "56-WB0LWeVaq"
      },
      "execution_count": 16,
      "outputs": []
    },
    {
      "cell_type": "code",
      "source": [
        "t_test = [0.25, 0.5, 0.75, 1]\n",
        "numPredictions = 1000\n",
        "x_test = np.linspace(-1,1,numPredictions).reshape(numPredictions, -1)\n",
        "\n",
        "prediction_list = []\n",
        "true_value_list = []\n",
        "\n",
        "for time in t_test:\n",
        "\n",
        "  ts = time*np.ones(numPredictions).reshape(numPredictions, -1)\n",
        "\n",
        "  true_value = solve_burgers(x_test, time, 0.01/pi)\n",
        "  true_value_list.append(true_value)\n",
        "\n",
        "  x_test_tensor = tf.convert_to_tensor(x_test, dtype = tf.float32)\n",
        "  ts_tensor = tf.convert_to_tensor(ts, dtype = tf.float32)\n",
        "\n",
        "  inputs_x_t_test = tf.concat([x_test_tensor,ts_tensor],1)\n",
        "\n",
        "  predictions = model(inputs_x_t_test)\n",
        "  prediction_list.append(predictions)"
      ],
      "metadata": {
        "id": "e_DLM3I73Sz2"
      },
      "execution_count": 17,
      "outputs": []
    },
    {
      "cell_type": "code",
      "source": [
        "fig, ax = plt.subplots(2,2, figsize=(18,8), )\n",
        "ax[0,0].plot(x_test_tensor, prediction_list[0], label='Prediction'), ax[0,0].set_title('time = 0.25s')\n",
        "ax[0,0].plot(x_test_tensor, true_value_list[0], label='True Value')\n",
        "\n",
        "ax[0,1].plot(x_test_tensor, prediction_list[1], label='Prediction'), ax[0,1].set_title('time = 0.50s')\n",
        "ax[0,1].plot(x_test_tensor, true_value_list[1], label='True Value')\n",
        "\n",
        "ax[1,0].plot(x_test_tensor, prediction_list[2], label='Prediction'), ax[1,0].set_title('time = 0.75s')\n",
        "ax[1,0].plot(x_test_tensor, true_value_list[2], label='True Value')\n",
        "\n",
        "ax[1,1].plot(x_test_tensor, prediction_list[3], label='Prediction'), ax[1,1].set_title('time = 1.00s')\n",
        "ax[1,1].plot(x_test_tensor, true_value_list[3], label='True Value')\n",
        "\n",
        "plt.legend()"
      ],
      "metadata": {
        "colab": {
          "base_uri": "https://localhost:8080/",
          "height": 517
        },
        "id": "bzF5-xt7g2yP",
        "outputId": "01869abc-32b1-436e-fbd9-8e2c8c512089"
      },
      "execution_count": 18,
      "outputs": [
        {
          "output_type": "execute_result",
          "data": {
            "text/plain": [
              "<matplotlib.legend.Legend at 0x7f9b2a5a51d0>"
            ]
          },
          "metadata": {},
          "execution_count": 18
        },
        {
          "output_type": "display_data",
          "data": {
            "text/plain": [
              "<Figure size 1296x576 with 4 Axes>"
            ],
            "image/png": "[encoded data removed]"
          },
          "metadata": {
            "needs_background": "light"
          }
        }
      ]
    }
  ]
}