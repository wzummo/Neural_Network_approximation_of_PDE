{
  "nbformat": 4,
  "nbformat_minor": 0,
  "metadata": {
    "colab": {
      "name": "Burgers_first_attempt",
      "provenance": [],
      "mount_file_id": "1zc2s5RzJ6YQCTPt5ePcbjnRJsgRFuuDk",
      "authorship_tag": "ABX9TyN4rEOYKzjwyg9PD9cphYJk",
      "include_colab_link": true
    },
    "kernelspec": {
      "name": "python3",
      "display_name": "Python 3"
    },
    "language_info": {
      "name": "python"
    }
  },
  "cells": [
    {
      "cell_type": "markdown",
      "metadata": {
        "id": "view-in-github",
        "colab_type": "text"
      },
      "source": [
        "<a href=\"https://colab.research.google.com/github/wzummo/Neural_Network_approximation_of_PDE/blob/main/Burgers_first_attempt.ipynb\" target=\"_parent\"><img src=\"https://colab.research.google.com/assets/colab-badge.svg\" alt=\"Open In Colab\"/></a>"
      ]
    },
    {
      "cell_type": "markdown",
      "source": [
        "# Burgers Equation example"
      ],
      "metadata": {
        "id": "916VqGw8vWlM"
      }
    },
    {
      "cell_type": "markdown",
      "source": [
        "\n",
        "1. x and t domain respectively\n",
        "* [-1,1]x[0,1]\n",
        "\n",
        "2. Where x and t are the inputs and u is returned as a solution to the equaiton:\n",
        "* $\\frac{∂u}{∂t} + u \\frac{∂u}{∂x} -\\frac{0.01}{\\pi} \\frac{∂^2u}{∂x^2} = 0$\n",
        "\n",
        "3. with initial condition of:\n",
        "* $u(x, t=0) = -sin(\\pi x)$\n",
        "\n",
        "4. and boundary condition of:\n",
        "* $u(x=-1,t) = 0$ and $u(x=1,t)=0$"
      ],
      "metadata": {
        "id": "scNFnbvTwSKa"
      }
    },
    {
      "cell_type": "code",
      "source": [
        "import tensorflow as tf\n",
        "import matplotlib.pyplot as plt\n",
        "import numpy as np"
      ],
      "metadata": {
        "id": "084OxDOU97-j"
      },
      "execution_count": 1,
      "outputs": []
    },
    {
      "cell_type": "markdown",
      "source": [
        "## data generation"
      ],
      "metadata": {
        "id": "YFuGBU7_zlWq"
      }
    },
    {
      "cell_type": "code",
      "source": [
        "# take 25 boundary condition samples\n",
        "n_samples_bc = 25\n",
        "\n",
        "# first boundary condition: u(x=-1, t) = 0\n",
        "\n",
        "# generate x data when x=-1\n",
        "x0_BC_1 = -1*np.ones(n_samples_bc).reshape(n_samples_bc,1)     # reshape to give second dimension\n",
        "\n",
        "# generate t data between 0,1\n",
        "t0_BC_1 = np.linspace(0,1,n_samples_bc).reshape(n_samples_bc,1)\n",
        "\n",
        "# since u = 0 at this boundary condition\n",
        "u0_BC_1 = np.zeros(n_samples_bc).reshape(n_samples_bc,1)\n",
        "\n",
        "# second boundary condition: u(x=1, t) = 0\n",
        "\n",
        "# generate x data when x=1\n",
        "x0_BC_2 = np.ones(n_samples_bc).reshape(n_samples_bc,1)     # reshape to give second dimension\n",
        "\n",
        "# generate t data between 0,1\n",
        "t0_BC_2 = np.linspace(0,1,n_samples_bc).reshape(n_samples_bc,1)\n",
        "\n",
        "# since u = 0 at this boundary condition\n",
        "u0_BC_2 = np.zeros(n_samples_bc).reshape(n_samples_bc,1)"
      ],
      "metadata": {
        "id": "L2JmXymvzpvK"
      },
      "execution_count": 2,
      "outputs": []
    },
    {
      "cell_type": "code",
      "source": [
        "# take 50 initial condition samples\n",
        "n_samples_ic = 50\n",
        "\n",
        "# initial condition: u(x, t=0) = -sin(\\pi x)\n",
        "\n",
        "# equally spaced x's on the domain [-1,1]\n",
        "x0_IC = np.linspace(-1,1,n_samples_ic).reshape(n_samples_ic,1)\n",
        "\n",
        "# t=0 at the IC\n",
        "t0_IC = np.zeros(n_samples_ic).reshape(n_samples_ic,1)\n",
        "\n",
        "# u is given by u(x, t=0) = -sin(\\pi x)\n",
        "u0_IC = -np.sin(np.pi*x0_IC).reshape(n_samples_ic,1)"
      ],
      "metadata": {
        "id": "H5mWizY01Z3f"
      },
      "execution_count": 3,
      "outputs": []
    },
    {
      "cell_type": "code",
      "source": [
        "# group data together \n",
        "X0 = np.concatenate([x0_IC, x0_BC_1, x0_BC_2])\n",
        "T0 = np.concatenate([t0_IC, t0_BC_1, t0_BC_2])\n",
        "U0 = np.concatenate([u0_IC, u0_BC_1, u0_BC_2])"
      ],
      "metadata": {
        "id": "wMt1XiRV2xmH"
      },
      "execution_count": 4,
      "outputs": []
    },
    {
      "cell_type": "code",
      "source": [
        "# Select 10,000 points to enforce the output of the network to fulfill the Burger's equation.\n",
        "n_samples_coll = 10000\n",
        "\n",
        "from scipy.stats import qmc\n",
        "\n",
        "sampler = qmc.Sobol(2)\n",
        "points = sampler.random(n_samples_coll)\n",
        "\n",
        "# since this returns between 0 and 1\n",
        "print(min(points[:,0]), max(points[:,0]))\n",
        "\n",
        "# for x data \n",
        "x_data = 2*points[:,0] - 1 # this returns it between -1 and 1 \n",
        "x_data = x_data.reshape(n_samples_coll,1)\n",
        "print(min(x_data), max(x_data))\n",
        "\n",
        "# while for t it already is between 0 and 1\n",
        "t_data = points[:,1].reshape(n_samples_coll,1)\n",
        "print(min(t_data), max(t_data))"
      ],
      "metadata": {
        "colab": {
          "base_uri": "https://localhost:8080/"
        },
        "id": "VW6yDmGj3RZ6",
        "outputId": "145509c3-01c7-4003-d4ba-b3974cd95613"
      },
      "execution_count": 5,
      "outputs": [
        {
          "output_type": "stream",
          "name": "stdout",
          "text": [
            "4.173163324594498e-05 0.9999550580978394\n",
            "[-0.99991654] [0.99991012]\n",
            "[6.33532181e-05] [0.99991584]\n"
          ]
        },
        {
          "output_type": "stream",
          "name": "stderr",
          "text": [
            "/usr/local/lib/python3.7/dist-packages/scipy/stats/_qmc.py:1078: UserWarning: The balance properties of Sobol' points require n to be a power of 2.\n",
            "  warnings.warn(\"The balance properties of Sobol' points require\"\n"
          ]
        }
      ]
    },
    {
      "cell_type": "code",
      "source": [
        "x_tensor = tf.convert_to_tensor(x_data, dtype=tf.float32)\n",
        "t_tensor = tf.convert_to_tensor(t_data, dtype=tf.float32)\n",
        "x0_tensor = tf.convert_to_tensor(X0, dtype=tf.float32)\n",
        "t0_tensor = tf.convert_to_tensor(T0, dtype=tf.float32)\n",
        "u0_tensor = tf.convert_to_tensor(U0, dtype=tf.float32)"
      ],
      "metadata": {
        "id": "1xEBXWnsac7F"
      },
      "execution_count": 6,
      "outputs": []
    },
    {
      "cell_type": "code",
      "source": [
        "train_dataset = tf.data.Dataset.from_tensor_slices((x_tensor, t_tensor))\n",
        "\n",
        "batch_size = 100\n",
        "train_dataset_shuffled = train_dataset.shuffle(10000).batch(batch_size)"
      ],
      "metadata": {
        "id": "bEpwKpfWjVXB"
      },
      "execution_count": 7,
      "outputs": []
    },
    {
      "cell_type": "markdown",
      "source": [
        "# define and initialize model "
      ],
      "metadata": {
        "id": "vmVol8XU-ov1"
      }
    },
    {
      "cell_type": "code",
      "source": [
        "def create_model():\n",
        "  inputs = tf.keras.Input((2))\n",
        "  L1 = tf.keras.layers.Dense(20, activation='tanh')(inputs)\n",
        "  L2 = tf.keras.layers.Dense(20, activation='tanh')(L1)\n",
        "  L3 = tf.keras.layers.Dense(20, activation='tanh')(L2)\n",
        "  L4 = tf.keras.layers.Dense(20, activation='tanh')(L3)\n",
        "  L5 = tf.keras.layers.Dense(20, activation='tanh')(L4)\n",
        "  L6 = tf.keras.layers.Dense(20, activation='tanh')(L5)\n",
        "  L7 = tf.keras.layers.Dense(20, activation='tanh')(L6)\n",
        "  L8 = tf.keras.layers.Dense(20, activation='tanh')(L7)\n",
        "  L9 = tf.keras.layers.Dense(20, activation='tanh')(L8)\n",
        "  outputs = tf.keras.layers.Dense(1, activation='tanh')(L9)\n",
        "\n",
        "  model = tf.keras.Model(inputs=inputs, outputs=outputs)\n",
        "  return model"
      ],
      "metadata": {
        "id": "VcEcol_N-xDG"
      },
      "execution_count": 12,
      "outputs": []
    },
    {
      "cell_type": "code",
      "source": [
        ""
      ],
      "metadata": {
        "id": "6C_FXa3hBNwm"
      },
      "execution_count": 8,
      "outputs": []
    },
    {
      "cell_type": "markdown",
      "source": [
        "$\\frac{∂u}{∂t} + u \\frac{∂u}{∂x} -\\frac{0.01}{\\pi} \\frac{∂^2u}{∂x^2} = 0$"
      ],
      "metadata": {
        "id": "NR41VLqhDN1S"
      }
    },
    {
      "cell_type": "code",
      "source": [
        "def MSE(y_pred, y_true=None):\n",
        "    '''mean square error of y_pred - y_true if y_true is given, else mean sqaure error of y_pred'''\n",
        "    if y_true is None:\n",
        "        return tf.reduce_mean(y_pred ** 2)\n",
        "    else:\n",
        "        return tf.reduce_mean((y_pred - y_true) ** 2)"
      ],
      "metadata": {
        "id": "gXh8PEVJGn0G"
      },
      "execution_count": 9,
      "outputs": []
    },
    {
      "cell_type": "code",
      "source": [
        "def loss(model, x, t, x0, t0, u0):\n",
        "  # residual loss for PDE\n",
        "  t_copy = tf.identity(t)\n",
        "  x_copy = tf.identity(x)\n",
        "  with tf.GradientTape() as touter:\n",
        "    touter.watch([t_copy, x_copy])\n",
        "    with tf.GradientTape(persistent=True) as t:\n",
        "      t.watch([t_copy, x_copy])\n",
        "      x_and_t = tf.concat([x_copy,t_copy],1)\n",
        "      u_pred = model(x_and_t)\n",
        "    Ut = t.gradient(u_pred, t_copy)\n",
        "    Ux = t.gradient(u_pred, x_copy)\n",
        "  Uxx = touter.gradient(Ux, x_copy)\n",
        "\n",
        "  res = Ut + u_pred*Ux - (0.01/np.pi)*Uxx\n",
        "  res_loss = sum([MSE(res_i) for res_i in res]) \n",
        "  \n",
        "\n",
        "  # inital condition and boundary (icab)\n",
        "  x_and_t_icab = tf.concat([x0,t0],1)\n",
        "  icab_pred = model(x_and_t_icab)\n",
        "  icab_loss = sum([MSE(icab_pred, u0)])\n",
        "\n",
        "  total_loss = res_loss + icab_loss\n",
        "  \n",
        "  return total_loss"
      ],
      "metadata": {
        "id": "cUryQCMeF1R7"
      },
      "execution_count": 10,
      "outputs": []
    },
    {
      "cell_type": "code",
      "source": [
        "model = create_model()\n",
        "\n",
        "epochs = 100\n",
        "optimizer = tf.keras.optimizers.Adam(learning_rate=0.0001)\n",
        "\n",
        "for epoch in range(epochs):\n",
        "  for x_batch, t_batch in train_dataset_shuffled:\n",
        "    with tf.GradientTape() as t_opt:\n",
        "      total_loss = loss(model, x_batch, t_batch, x0_tensor, t0_tensor, u0_tensor)\n",
        "    optimizer.minimize(total_loss, [model.trainable_variables], tape=t_opt)\n",
        "\n",
        "  if epoch % 1 == 0:\n",
        "    print(f'Epoch = {epoch}, Loss = {total_loss.numpy()}')\n"
      ],
      "metadata": {
        "colab": {
          "base_uri": "https://localhost:8080/"
        },
        "id": "Cb42kFBYVG-2",
        "outputId": "d140abae-94ec-41cc-b8c1-c11b240d8c8b"
      },
      "execution_count": 13,
      "outputs": [
        {
          "output_type": "stream",
          "name": "stdout",
          "text": [
            "Epoch = 0, Loss = 0.21317462623119354\n",
            "Epoch = 1, Loss = 0.21086667478084564\n",
            "Epoch = 2, Loss = 0.2102084904909134\n",
            "Epoch = 3, Loss = 0.2073453813791275\n",
            "Epoch = 4, Loss = 0.2074202001094818\n",
            "Epoch = 5, Loss = 0.20659767091274261\n",
            "Epoch = 6, Loss = 0.20295187830924988\n",
            "Epoch = 7, Loss = 0.19945642352104187\n",
            "Epoch = 8, Loss = 0.19508036971092224\n",
            "Epoch = 9, Loss = 0.19056135416030884\n",
            "Epoch = 10, Loss = 0.18860626220703125\n",
            "Epoch = 11, Loss = 0.18489716947078705\n",
            "Epoch = 12, Loss = 0.18500438332557678\n",
            "Epoch = 13, Loss = 0.18030720949172974\n",
            "Epoch = 14, Loss = 0.18010704219341278\n",
            "Epoch = 15, Loss = 0.1810699701309204\n",
            "Epoch = 16, Loss = 0.17665015161037445\n",
            "Epoch = 17, Loss = 0.17367452383041382\n",
            "Epoch = 18, Loss = 0.17497144639492035\n",
            "Epoch = 19, Loss = 0.1695452332496643\n",
            "Epoch = 20, Loss = 0.16785649955272675\n",
            "Epoch = 21, Loss = 0.17023293673992157\n",
            "Epoch = 22, Loss = 0.165346160531044\n",
            "Epoch = 23, Loss = 0.1627447009086609\n",
            "Epoch = 24, Loss = 0.16181425750255585\n",
            "Epoch = 25, Loss = 0.16315887868404388\n",
            "Epoch = 26, Loss = 0.1611272245645523\n",
            "Epoch = 27, Loss = 0.15979459881782532\n",
            "Epoch = 28, Loss = 0.15806275606155396\n",
            "Epoch = 29, Loss = 0.15808451175689697\n",
            "Epoch = 30, Loss = 0.15875016152858734\n",
            "Epoch = 31, Loss = 0.16249428689479828\n",
            "Epoch = 32, Loss = 0.15972954034805298\n",
            "Epoch = 33, Loss = 0.15479229390621185\n",
            "Epoch = 34, Loss = 0.15724298357963562\n",
            "Epoch = 35, Loss = 0.1564422845840454\n",
            "Epoch = 36, Loss = 0.15504947304725647\n",
            "Epoch = 37, Loss = 0.15955135226249695\n",
            "Epoch = 38, Loss = 0.15939539670944214\n",
            "Epoch = 39, Loss = 0.1519070565700531\n",
            "Epoch = 40, Loss = 0.14874479174613953\n",
            "Epoch = 41, Loss = 0.1509975790977478\n",
            "Epoch = 42, Loss = 0.15295414626598358\n",
            "Epoch = 43, Loss = 0.15124130249023438\n",
            "Epoch = 44, Loss = 0.15199607610702515\n",
            "Epoch = 45, Loss = 0.14802531898021698\n",
            "Epoch = 46, Loss = 0.1506434679031372\n",
            "Epoch = 47, Loss = 0.1486227959394455\n",
            "Epoch = 48, Loss = 0.14689002931118011\n",
            "Epoch = 49, Loss = 0.15542085468769073\n",
            "Epoch = 50, Loss = 0.14638718962669373\n",
            "Epoch = 51, Loss = 0.14647871255874634\n",
            "Epoch = 52, Loss = 0.1480242908000946\n",
            "Epoch = 53, Loss = 0.14528757333755493\n",
            "Epoch = 54, Loss = 0.14498385787010193\n",
            "Epoch = 55, Loss = 0.14435698091983795\n",
            "Epoch = 56, Loss = 0.14152275025844574\n",
            "Epoch = 57, Loss = 0.1381388008594513\n",
            "Epoch = 58, Loss = 0.13761301338672638\n",
            "Epoch = 59, Loss = 0.1393013447523117\n",
            "Epoch = 60, Loss = 0.1364649385213852\n",
            "Epoch = 61, Loss = 0.13774535059928894\n",
            "Epoch = 62, Loss = 0.13661769032478333\n",
            "Epoch = 63, Loss = 0.13183195888996124\n",
            "Epoch = 64, Loss = 0.13229303061962128\n",
            "Epoch = 65, Loss = 0.13037854433059692\n",
            "Epoch = 66, Loss = 0.1289059966802597\n",
            "Epoch = 67, Loss = 0.13078826665878296\n",
            "Epoch = 68, Loss = 0.12844841182231903\n",
            "Epoch = 69, Loss = 0.1272130310535431\n",
            "Epoch = 70, Loss = 0.12539412081241608\n",
            "Epoch = 71, Loss = 0.1250465363264084\n",
            "Epoch = 72, Loss = 0.12827475368976593\n",
            "Epoch = 73, Loss = 0.12002778798341751\n",
            "Epoch = 74, Loss = 0.125081866979599\n",
            "Epoch = 75, Loss = 0.12107054889202118\n",
            "Epoch = 76, Loss = 0.12406656891107559\n",
            "Epoch = 77, Loss = 0.119283527135849\n",
            "Epoch = 78, Loss = 0.11820053309202194\n",
            "Epoch = 79, Loss = 0.11794156581163406\n",
            "Epoch = 80, Loss = 0.11742951720952988\n",
            "Epoch = 81, Loss = 0.11224380880594254\n",
            "Epoch = 82, Loss = 0.11290592700242996\n",
            "Epoch = 83, Loss = 0.11886544525623322\n",
            "Epoch = 84, Loss = 0.11185811460018158\n",
            "Epoch = 85, Loss = 0.11086732149124146\n",
            "Epoch = 86, Loss = 0.11583936214447021\n",
            "Epoch = 87, Loss = 0.11340072751045227\n",
            "Epoch = 88, Loss = 0.10799597948789597\n",
            "Epoch = 89, Loss = 0.10845807939767838\n",
            "Epoch = 90, Loss = 0.10620914399623871\n",
            "Epoch = 91, Loss = 0.11059542000293732\n",
            "Epoch = 92, Loss = 0.10694247484207153\n",
            "Epoch = 93, Loss = 0.10558595508337021\n",
            "Epoch = 94, Loss = 0.10843320190906525\n",
            "Epoch = 95, Loss = 0.10835012793540955\n",
            "Epoch = 96, Loss = 0.10371293872594833\n",
            "Epoch = 97, Loss = 0.10618999600410461\n",
            "Epoch = 98, Loss = 0.10380548238754272\n",
            "Epoch = 99, Loss = 0.10238709300756454\n"
          ]
        }
      ]
    },
    {
      "cell_type": "code",
      "source": [
        "t_test = [0.25, 0.5, 0.75, 1]\n",
        "numPredictions = 1000\n",
        "x_test = np.linspace(-1,1,numPredictions).reshape(numPredictions, -1)\n",
        "\n",
        "prediction_list = []\n",
        "for time in t_test:\n",
        "\n",
        "  ts = time*np.ones(numPredictions).reshape(numPredictions, -1)\n",
        "\n",
        "  x_test_tensor = tf.convert_to_tensor(x_test, dtype = tf.float32)\n",
        "  ts_tensor = tf.convert_to_tensor(ts, dtype = tf.float32)\n",
        "\n",
        "  inputs_x_t_test = tf.concat([x_test_tensor,ts_tensor],1)\n",
        "\n",
        "  predictions = model(inputs_x_t_test)\n",
        "  prediction_list.append(predictions)\n",
        "\n",
        "fig, ax = plt.subplots(2,2, figsize=(18,8))\n",
        "ax[0,0].plot(x_test_tensor, prediction_list[0]), ax[0,0].set_title('time = 0.25s')\n",
        "ax[0,1].plot(x_test_tensor, prediction_list[1]), ax[0,1].set_title('time = 0.50s')\n",
        "ax[1,0].plot(x_test_tensor, prediction_list[2]), ax[1,0].set_title('time = 0.75s')\n",
        "ax[1,1].plot(x_test_tensor, prediction_list[3]), ax[1,1].set_title('time = 1.00s')"
      ],
      "metadata": {
        "colab": {
          "base_uri": "https://localhost:8080/",
          "height": 517
        },
        "id": "e_DLM3I73Sz2",
        "outputId": "e0d11dd1-da89-4819-d7da-c2e43f9d0691"
      },
      "execution_count": 14,
      "outputs": [
        {
          "output_type": "execute_result",
          "data": {
            "text/plain": [
              "([<matplotlib.lines.Line2D at 0x7f435de41fd0>], Text(0.5, 1.0, 'time = 1.00s'))"
            ]
          },
          "metadata": {},
          "execution_count": 14
        },
        {
          "output_type": "display_data",
          "data": {
            "text/plain": [
              "<Figure size 1296x576 with 4 Axes>"
            ],
            "image/png": "[encoded data removed]"
          },
          "metadata": {
            "needs_background": "light"
          }
        }
      ]
    },
    {
      "cell_type": "code",
      "source": [
        "def solve_burgers(x, t, nu):  \n",
        "  def f(y):\n",
        "    return np.exp(-np.cos(np.pi*y)/(2*np.pi*nu))\n",
        "\n",
        "  def g(y):\n",
        "    return np.exp(-y**2)/(4*nu*t)\n",
        "\n",
        "  # Initialize solutions\n",
        "  U = np.zeros_like(x)\n",
        "\n",
        "  # loop over x's\n",
        "  for i in range(len(x)):\n",
        "    "
      ],
      "metadata": {
        "id": "xFUUQqh__TWy"
      },
      "execution_count": null,
      "outputs": []
    },
    {
      "cell_type": "code",
      "source": [
        "function U = solveBurgers(X,t,nu)\n",
        "\n",
        "% Define functions.\n",
        "f = @(y) exp(-cos(pi*y)/(2*pi*nu));\n",
        "g = @(y) exp(-(y.^2)/(4*nu*t));\n",
        "\n",
        "% Initialize solutions.\n",
        "U = zeros(size(X));\n",
        "\n",
        "% Loop over x values.\n",
        "for i = 1:numel(X)\n",
        "    x = X(i);\n",
        "\n",
        "    # % Calculate the solutions using the integral function. The boundary\n",
        "    # % conditions in x = -1 and x = 1 are known, so leave 0 as they are\n",
        "    # % given by initialization of U.\n",
        "    if abs(x) ~= 1\n",
        "        fun = @(eta) sin(pi*(x-eta)) .* f(x-eta) .* g(eta);\n",
        "        uxt = -integral(fun,-inf,inf);\n",
        "        fun = @(eta) f(x-eta) .* g(eta);\n",
        "        U(i) = uxt / integral(fun,-inf,inf);\n",
        "    end\n",
        "end\n",
        "\n",
        "end"
      ],
      "metadata": {
        "id": "4o8yBH4__Q3T"
      },
      "execution_count": null,
      "outputs": []
    }
  ]
}